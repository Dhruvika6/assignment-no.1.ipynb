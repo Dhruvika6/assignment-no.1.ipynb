{
 "cells": [
  {
   "cell_type": "code",
   "execution_count": 1,
   "id": "03a8a0e5-22e4-4d0a-989c-a4f870c1fb4c",
   "metadata": {},
   "outputs": [
    {
     "name": "stdin",
     "output_type": "stream",
     "text": [
      "Input your First Name :  Dhruvika \n",
      "Input your Last Name :  Bhardwaj\n"
     ]
    },
    {
     "name": "stdout",
     "output_type": "stream",
     "text": [
      "Hello  Bhardwaj Dhruvika \n"
     ]
    }
   ],
   "source": [
    "#program to take input of username and print them in reverse order\n",
    "fname = input(\"Input your First Name : \")\n",
    "\n",
    "# Prompt the user to input their last name and store it in the 'lname' variable\n",
    "lname = input(\"Input your Last Name : \")\n",
    "\n",
    "# Display a greeting message with the last name followed by the first name\n",
    "print(\"Hello  \" + lname + \" \" + fname)\n"
   ]
  },
  {
   "cell_type": "code",
   "execution_count": null,
   "id": "6646a537-188c-418a-b766-6952f87741b2",
   "metadata": {},
   "outputs": [],
   "source": [
    "# 2 string functions\n",
    "#       concat()=appends one string with another string\n",
    "#        length()=returns the length of the string"
   ]
  },
  {
   "cell_type": "code",
   "execution_count": 2,
   "id": "2229d8f1-3605-43e3-ab71-23fcf8218f86",
   "metadata": {},
   "outputs": [
    {
     "name": "stdout",
     "output_type": "stream",
     "text": [
      "x is of type: <class 'int'>\n",
      "y is of type: <class 'float'>\n",
      "20.6\n",
      "z is of type: <class 'float'>\n"
     ]
    }
   ],
   "source": [
    "#conerting user input into different data types\n",
    "x = 10\n",
    "\n",
    "print(\"x is of type:\",type(x))\n",
    "\n",
    "y = 10.6\n",
    "print(\"y is of type:\",type(y))\n",
    "\n",
    "z = x + y\n",
    "\n",
    "print(z)\n",
    "print(\"z is of type:\",type(z))\n"
   ]
  },
  {
   "cell_type": "code",
   "execution_count": null,
   "id": "3cd9037e-ce45-451d-ad68-7feb332bb133",
   "metadata": {},
   "outputs": [],
   "source": [
    "# difference between int and float\n",
    "#  int= display the value in integer form,it can be both positive as well as negative\n",
    "#  float()= display the data in the form ofdecimals. all decimals value can be displayed"
   ]
  },
  {
   "cell_type": "code",
   "execution_count": 3,
   "id": "20874a5a-ccaf-4f5a-928d-d0f994bced17",
   "metadata": {},
   "outputs": [
    {
     "name": "stdout",
     "output_type": "stream",
     "text": [
      "Area of Rectangle: 40\n"
     ]
    }
   ],
   "source": [
    "# Function to calculate the area using print function\n",
    "def area_simple_multiplication(length, width):\n",
    "\treturn length * width\n",
    "\n",
    "# Example usage:\n",
    "length = 5\n",
    "width = 8\n",
    "result = area_simple_multiplication(length, width)\n",
    "print(f\"Area of Rectangle: {result}\")\n"
   ]
  },
  {
   "cell_type": "code",
   "execution_count": 4,
   "id": "5c3e0b4b-8c60-42be-bac6-5d3c2511a820",
   "metadata": {},
   "outputs": [
    {
     "name": "stdout",
     "output_type": "stream",
     "text": [
      "Sum: 60, Average: 20.0\n"
     ]
    }
   ],
   "source": [
    "# calculating average of 3 numbers and display the result using print function\n",
    "numbers = [10, 20, 30]\n",
    "\n",
    "# Variable to store sum\n",
    "sum_numbers = 0\n",
    "\n",
    "# Calculating sum\n",
    "for i in numbers:\n",
    "    sum_numbers += i\n",
    "\n",
    "# Calculating average\n",
    "average = sum_numbers / len(numbers)\n",
    "\n",
    "# Displaying the result\n",
    "print(f'Sum: {sum_numbers}, Average: {average}')\n"
   ]
  },
  {
   "cell_type": "code",
   "execution_count": 5,
   "id": "26fdbc69-6c94-47ba-b153-39be7928e647",
   "metadata": {},
   "outputs": [
    {
     "name": "stdin",
     "output_type": "stream",
     "text": [
      "Enter a number:  -6\n"
     ]
    },
    {
     "name": "stdout",
     "output_type": "stream",
     "text": [
      "Negative number\n"
     ]
    }
   ],
   "source": [
    "# Python program to check whether the number is positive, negative or equal to zero\n",
    "\n",
    "num = float(input(\"Enter a number: \"))\n",
    "if num >= 0:\n",
    "   if num == 0:\n",
    "       print(\"Zero\")\n",
    "   else:\n",
    "       print(\"Positive number\")\n",
    "else:\n",
    "   print(\"Negative number\")\n",
    "\n"
   ]
  },
  {
   "cell_type": "code",
   "execution_count": 6,
   "id": "8cf196d4-ff80-4b84-bb62-8016898f99c3",
   "metadata": {},
   "outputs": [
    {
     "name": "stdin",
     "output_type": "stream",
     "text": [
      "Enter a number:  6\n",
      "Enter a number:  5\n",
      "Enter a number:  9\n",
      "Enter a number:  4\n",
      "Enter a number:  stop\n"
     ]
    }
   ],
   "source": [
    "#To print the numbers till the user enters stop\n",
    "while True:\n",
    "    ans = input(\"Enter a number: \")\n",
    "    #Currently ans variable is a string.\n",
    "    #ans.lower() gives you a lowercase version of the string.\n",
    "    if ans.lower()==\"stop\":\n",
    "        break        #This command breaks out of the while loop.\n",
    "    ans = float(ans)"
   ]
  },
  {
   "cell_type": "code",
   "execution_count": 7,
   "id": "6442ccc8-c6aa-444b-a222-99b695658181",
   "metadata": {},
   "outputs": [
    {
     "name": "stdin",
     "output_type": "stream",
     "text": [
      "Enter a number:  5\n"
     ]
    },
    {
     "name": "stdout",
     "output_type": "stream",
     "text": [
      "5 is Odd number\n"
     ]
    }
   ],
   "source": [
    "#To check weather the given no. is even or odd\n",
    "num = int(input(\"Enter a number: \"))  \n",
    "if (num % 2) == 0:  \n",
    "   print(\"{0} is Even number\".format(num))  \n",
    "else:  \n",
    "   print(\"{0} is Odd number\".format(num))  "
   ]
  },
  {
   "cell_type": "code",
   "execution_count": 12,
   "id": "033312eb-efe1-4611-ad12-b7e2998b4b61",
   "metadata": {},
   "outputs": [
    {
     "name": "stdin",
     "output_type": "stream",
     "text": [
      "Enter a number:  67\n"
     ]
    },
    {
     "name": "stdout",
     "output_type": "stream",
     "text": [
      "The decimal number: 67\n",
      "The binary representation: 0b1000011\n",
      "The octal representation: 0o103\n",
      "The hexadecimal representation: 0x43\n"
     ]
    }
   ],
   "source": [
    "# Input a decimal number\n",
    "x = int(input(\"Enter a number: \"))\n",
    "\n",
    "# Convert the decimal number to binary, octal, and hexadecimal\n",
    "binary_representation = bin(x)\n",
    "octal_representation = oct(x)\n",
    "hexadecimal_representation = hex(x)\n",
    "\n",
    "# Print the original decimal number and its representations\n",
    "print(\"The decimal number:\", x)\n",
    "print(\"The binary representation:\", binary_representation)\n",
    "print(\"The octal representation:\", octal_representation)\n",
    "print(\"The hexadecimal representation:\", hexadecimal_representation)"
   ]
  },
  {
   "cell_type": "code",
   "execution_count": null,
   "id": "26cd0200-65e5-4c7f-b9e3-de3422f8dfb2",
   "metadata": {},
   "outputs": [],
   "source": []
  }
 ],
 "metadata": {
  "kernelspec": {
   "display_name": "Python 3 (ipykernel)",
   "language": "python",
   "name": "python3"
  },
  "language_info": {
   "codemirror_mode": {
    "name": "ipython",
    "version": 3
   },
   "file_extension": ".py",
   "mimetype": "text/x-python",
   "name": "python",
   "nbconvert_exporter": "python",
   "pygments_lexer": "ipython3",
   "version": "3.12.5"
  }
 },
 "nbformat": 4,
 "nbformat_minor": 5
}
